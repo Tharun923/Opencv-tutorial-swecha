{
 "cells": [
  {
   "cell_type": "markdown",
   "metadata": {},
   "source": [
    "# Hello World !!"
   ]
  },
  {
   "cell_type": "code",
   "execution_count": null,
   "metadata": {},
   "outputs": [],
   "source": [
    "print(\"I love FOSS! I love Swecha!\")"
   ]
  },
  {
   "cell_type": "markdown",
   "metadata": {},
   "source": [
    "# Variables,Constants,Types,operators"
   ]
  },
  {
   "cell_type": "code",
   "execution_count": 1,
   "metadata": {},
   "outputs": [
    {
     "name": "stdout",
     "output_type": "stream",
     "text": [
      "7 <class 'int'>\n",
      "7.0 <class 'float'>\n",
      "Swecha <class 'str'>\n"
     ]
    }
   ],
   "source": [
    "xint = 7\n",
    "xfloat = 7.0\n",
    "xstr = 'Swecha'\n",
    "print(xint,type(xint))\n",
    "print(xfloat,type(xfloat))\n",
    "print(xstr,type(xstr))"
   ]
  },
  {
   "cell_type": "code",
   "execution_count": 2,
   "metadata": {},
   "outputs": [
    {
     "name": "stdout",
     "output_type": "stream",
     "text": [
      "7.0\n",
      "7\n"
     ]
    }
   ],
   "source": [
    "#Type Conversion\n",
    "print(float(xint))\n",
    "print(int(xfloat))"
   ]
  },
  {
   "cell_type": "code",
   "execution_count": 7,
   "metadata": {},
   "outputs": [
    {
     "name": "stdout",
     "output_type": "stream",
     "text": [
      "3\n",
      "7\n"
     ]
    }
   ],
   "source": [
    "#String operations\n",
    "st = 'Python is pure bliss'\n",
    "#print(len(st))\n",
    "#splice\n",
    "#print(st[1:8])\n",
    "#print(st[1:8:2])\n",
    "#print(st.split(' '))\n",
    "print(st.count('s'))\n",
    "print(st.index('i'))\n",
    "#print(st[::-1])\n",
    "#print(st.lower())\n",
    "#print(st.upper())\n",
    "#print(st.swapcase())\n",
    "#print(st.find(\"pure\"))"
   ]
  },
  {
   "cell_type": "code",
   "execution_count": 8,
   "metadata": {},
   "outputs": [
    {
     "name": "stdout",
     "output_type": "stream",
     "text": [
      "7 13\n",
      "output of a+b,a-b,a*b,a/b,a%b,a**b  20 -6 91 0.5384615384615384 7 96889010407\n",
      "output of a>b,a<b,a==b  False True False\n",
      "output of a&b,a|b,a^b  5 15 10\n",
      "Adding the 2 strings :  MADCRAZY\n",
      "Repeating a string using * operator :  MADMADMAD\n"
     ]
    }
   ],
   "source": [
    "#Operators\n",
    "\n",
    "a,b = 7,13\n",
    "print(a,b)\n",
    "\n",
    "x,y,z,q,w,v = a+b,a-b,a*b,a/b,a%b,a**b\n",
    "print(\"output of a+b,a-b,a*b,a/b,a%b,a**b \" ,x,y,z,q,w,v)\n",
    "\n",
    "s,d,f = a>b,a<b,a==b\n",
    "print(\"output of a>b,a<b,a==b \",s,d,f)\n",
    "\n",
    "s,d,f = a&b,a|b,a^b\n",
    "print(\"output of a&b,a|b,a^b \",s,d,f)\n",
    "\n",
    "#print(bin(a))\n",
    "#print(bin(b))\n",
    "\n",
    "m = \"MAD\"\n",
    "n = \"CRAZY\"\n",
    "print(\"Adding the 2 strings : \" ,m+n)\n",
    "print(\"Repeating a string using * operator : \",m*3)\n"
   ]
  },
  {
   "cell_type": "markdown",
   "metadata": {},
   "source": [
    "# Lists,Tuples,Dictionaries"
   ]
  },
  {
   "cell_type": "code",
   "execution_count": 9,
   "metadata": {},
   "outputs": [
    {
     "name": "stdout",
     "output_type": "stream",
     "text": [
      "length of list is :  7\n",
      "2nd element is  [1, 2, 3]\n",
      "Type of 3rd element is  <class 'dict'>\n"
     ]
    }
   ],
   "source": [
    "# x is a list \n",
    "x = []\n",
    "x = ['Swecha','FOSS',[1,2,3],{'data':'power'},23.78,(2,8),2345]\n",
    "print('length of list is : ',len(x))\n",
    "print('2nd element is ',x[2])\n",
    "print('Type of 3rd element is ',type(x[3]))"
   ]
  },
  {
   "cell_type": "code",
   "execution_count": 10,
   "metadata": {},
   "outputs": [
    {
     "name": "stdout",
     "output_type": "stream",
     "text": [
      "['Swecha', 'FOSS', [1, 2, 3], {'data': 'power'}, 23.78, (2, 8), 2345, 'xyz']\n",
      "['Swecha', 'FOSS', [1, 2, 3], {'data': 'power'}, 23.78, (2, 8), 2345, 'xyz', 1, 2, 3]\n",
      "[1, 2, 3, 1, 2, 3, 1, 2, 3]\n"
     ]
    }
   ],
   "source": [
    "# Add a new element to list\n",
    "x.append('xyz')\n",
    "print(x)\n",
    "\n",
    "y = [1,2,3]\n",
    "z = x + y\n",
    "print(z)\n",
    "print(y*3)"
   ]
  },
  {
   "cell_type": "code",
   "execution_count": 11,
   "metadata": {},
   "outputs": [
    {
     "name": "stdout",
     "output_type": "stream",
     "text": [
      "<class 'tuple'>\n",
      "2\n"
     ]
    }
   ],
   "source": [
    "# Tuples\n",
    "\n",
    "x = (1,2,3)\n",
    "print(type(x))\n",
    "print(x[1])\n",
    "\n",
    "# Tuples are similar to lists but are immutable,have left accessing"
   ]
  },
  {
   "cell_type": "code",
   "execution_count": 12,
   "metadata": {},
   "outputs": [
    {
     "name": "stdout",
     "output_type": "stream",
     "text": [
      "{'John': 938477566, 'Jack': 938377264, 'Jill': 947662781}\n",
      "{'John': 938477566, 'Jack': 938377264, 'Jill': 947662781}\n",
      "{'Jack': 938377264, 'Jill': 947662781}\n",
      "{'Jack': 14004531, 'Jill': 14004532}\n"
     ]
    }
   ],
   "source": [
    "# Dictionaries\n",
    "phonebook = {}\n",
    "phonebook[\"John\"] = 938477566\n",
    "phonebook[\"Jack\"] = 938377264\n",
    "phonebook[\"Jill\"] = 947662781\n",
    "print(phonebook)\n",
    "\n",
    "data = {\n",
    "    \"John\" : 14004530,\n",
    "    \"Jack\" : 14004531,\n",
    "    \"Jill\" : 14004532\n",
    "}\n",
    "print(phonebook)\n",
    "\n",
    "del phonebook[\"John\"]\n",
    "print(phonebook)\n",
    "\n",
    "data.pop(\"John\")\n",
    "print(data)"
   ]
  },
  {
   "cell_type": "markdown",
   "metadata": {},
   "source": [
    "__Task 1__\n",
    "\n",
    "** Add 2 numbers and Add 2 strings"
   ]
  },
  {
   "cell_type": "code",
   "execution_count": null,
   "metadata": {},
   "outputs": [],
   "source": [
    "astring = \"Hello world!\"\n",
    "print(astring[3:7:2])"
   ]
  },
  {
   "cell_type": "markdown",
   "metadata": {},
   "source": [
    "# Decision making and Looping"
   ]
  },
  {
   "cell_type": "code",
   "execution_count": 13,
   "metadata": {},
   "outputs": [
    {
     "name": "stdout",
     "output_type": "stream",
     "text": [
      "Name is either Swecha or KLU.\n",
      "True\n",
      "False\n",
      "x equals two!\n"
     ]
    }
   ],
   "source": [
    "name = \"Swecha\"\n",
    "if name in [\"Swecha\", \"KLU\"]:\n",
    "    print(\"Name is either Swecha or KLU.\")\n",
    "    \n",
    "x = [1,2,3]\n",
    "y = [1,2,3]\n",
    "print(x == y) # Prints out True\n",
    "print(x is y) # Prints out False\n",
    "\n",
    "x = 2\n",
    "if x == 2:\n",
    "    print(\"x equals two!\")\n",
    "elif x == 3:\n",
    "    print('x equals three!')\n",
    "else:\n",
    "    print(\"x does not equal to two.\")"
   ]
  },
  {
   "cell_type": "code",
   "execution_count": null,
   "metadata": {},
   "outputs": [],
   "source": [
    "# Prints out the numbers 0,1,2,3,4\n",
    "for x in range(5):\n",
    "    print(x)\n",
    "\n",
    "# Prints out 3,4,5\n",
    "for x in range(3, 6):\n",
    "    print(x)\n",
    "\n",
    "# Prints out 3,5,7\n",
    "for x in range(3, 8, 2):\n",
    "    print(x)\n",
    "    \n",
    "primes = [2, 3, 5, 7]\n",
    "for prime in primes:\n",
    "    print(prime)\n",
    "    \n",
    "# Prints out 0,1,2,3,4\n",
    "\n",
    "count = 0\n",
    "while count < 5:\n",
    "    print(count)\n",
    "    count += 1  # This is the same as count = count + 1"
   ]
  },
  {
   "cell_type": "code",
   "execution_count": null,
   "metadata": {},
   "outputs": [],
   "source": [
    "# Prints out 0,1,2,3,4\n",
    "\n",
    "count = 0\n",
    "while True:\n",
    "    print(count)\n",
    "    count += 1\n",
    "    if count >= 5:\n",
    "        break\n",
    "\n",
    "# Prints out only odd numbers - 1,3,5,7,9\n",
    "for x in range(10):\n",
    "    # Check if x is even\n",
    "    if x % 2 == 0:\n",
    "        continue\n",
    "    print(x)"
   ]
  },
  {
   "cell_type": "code",
   "execution_count": null,
   "metadata": {},
   "outputs": [],
   "source": [
    "# Prints out 0,1,2,3,4 and then it prints \"count value reached 5\"\n",
    "\n",
    "count=0\n",
    "while(count<5):\n",
    "    print(count)\n",
    "    count +=1\n",
    "else:\n",
    "    print(\"count value reached %d\" %(count))\n",
    "\n",
    "# Prints out 1,2,3,4\n",
    "for i in range(1, 10):\n",
    "    if(i%5==0):\n",
    "        break\n",
    "    print(i)\n",
    "else:\n",
    "    print(\"this is not printed because for loop is terminated because of break but not due to fail in condition\")"
   ]
  },
  {
   "cell_type": "code",
   "execution_count": null,
   "metadata": {},
   "outputs": [],
   "source": [
    "# Looping in Dictionaries\n",
    "\n",
    "phonebook = {\"John\" : 938477566,\"Jack\" : 938377264,\"Jill\" : 947662781}\n",
    "for name, number in phonebook.items():\n",
    "    print(\"Phone number of %s is %d\" % (name, number))"
   ]
  },
  {
   "cell_type": "markdown",
   "metadata": {},
   "source": [
    "# Functions"
   ]
  },
  {
   "cell_type": "code",
   "execution_count": 14,
   "metadata": {},
   "outputs": [
    {
     "name": "stdout",
     "output_type": "stream",
     "text": [
      "I love Swecha!\n",
      "Hello, Alaska , This is your first camp at Swecha!, I wish you good luck!\n"
     ]
    }
   ],
   "source": [
    "def my_function():\n",
    "    print(\"I love Swecha!\")\n",
    "\n",
    "def my_function_with_args(username, greeting):\n",
    "    print(\"Hello, %s , This is your first camp at Swecha!, I wish you %s\"%(username, greeting))\n",
    "\n",
    "def sum_two_numbers(a, b):\n",
    "    return a + b\n",
    "\n",
    "# print(a simple greeting)\n",
    "my_function()\n",
    "\n",
    "#prints - \"Hello, John Doe, From My Function!, I wish you a great year!\"\n",
    "my_function_with_args(\"Alaska\", \"good luck!\")\n",
    "\n",
    "# after this line x will hold the value 3!\n",
    "x = sum_two_numbers(1,2)"
   ]
  },
  {
   "cell_type": "markdown",
   "metadata": {},
   "source": [
    "# Classes and Objects"
   ]
  },
  {
   "cell_type": "code",
   "execution_count": null,
   "metadata": {},
   "outputs": [],
   "source": [
    "class MyClass:\n",
    "    variable = \"blahblahblah\"\n",
    "\n",
    "    def function(self):\n",
    "        print(\"This is a message inside the class.\")\n",
    "\n",
    "myobjectx = MyClass()\n",
    "myobjecty = MyClass()\n",
    "\n",
    "myobjecty.variable = \"Swecha\"\n",
    "\n",
    "# Then print out both values\n",
    "print(myobjectx.variable)\n",
    "print(myobjecty.variable)\n",
    "myobjectx.function()"
   ]
  },
  {
   "cell_type": "markdown",
   "metadata": {},
   "source": [
    "__Task 2__\n",
    "** Create a simple calculator"
   ]
  },
  {
   "cell_type": "markdown",
   "metadata": {},
   "source": [
    "__Project__\n",
    "\n",
    "** Snake and Ladder game\n",
    "** Lucky 7"
   ]
  }
 ],
 "metadata": {
  "kernelspec": {
   "display_name": "Python 3",
   "language": "python",
   "name": "python3"
  },
  "language_info": {
   "codemirror_mode": {
    "name": "ipython",
    "version": 3
   },
   "file_extension": ".py",
   "mimetype": "text/x-python",
   "name": "python",
   "nbconvert_exporter": "python",
   "pygments_lexer": "ipython3",
   "version": "3.6.7"
  }
 },
 "nbformat": 4,
 "nbformat_minor": 2
}
