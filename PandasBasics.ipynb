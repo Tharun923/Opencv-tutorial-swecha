{
 "cells": [
  {
   "cell_type": "code",
   "execution_count": 1,
   "metadata": {},
   "outputs": [
    {
     "name": "stdout",
     "output_type": "stream",
     "text": [
      "        country    capital    area  population\n",
      "0        Brazil   Brasilia   8.516      200.40\n",
      "1        Russia     Moscow  17.100      143.50\n",
      "2         India  New Dehli   3.286     1252.00\n",
      "3         China    Beijing   9.597     1357.00\n",
      "4  South Africa   Pretoria   1.221       52.98\n"
     ]
    }
   ],
   "source": [
    "import pandas as pd\n",
    "dict = {\"country\": [\"Brazil\", \"Russia\", \"India\", \"China\", \"South Africa\"],\n",
    "       \"capital\": [\"Brasilia\", \"Moscow\", \"New Dehli\", \"Beijing\", \"Pretoria\"],\n",
    "       \"area\": [8.516, 17.10, 3.286, 9.597, 1.221],\n",
    "       \"population\": [200.4, 143.5, 1252, 1357, 52.98] }\n",
    "\n",
    "brics = pd.DataFrame(dict)\n",
    "print(brics)"
   ]
  },
  {
   "cell_type": "code",
   "execution_count": 2,
   "metadata": {},
   "outputs": [
    {
     "name": "stdout",
     "output_type": "stream",
     "text": [
      "         country    capital    area  population\n",
      "BR        Brazil   Brasilia   8.516      200.40\n",
      "RU        Russia     Moscow  17.100      143.50\n",
      "IN         India  New Dehli   3.286     1252.00\n",
      "CH         China    Beijing   9.597     1357.00\n",
      "SA  South Africa   Pretoria   1.221       52.98\n"
     ]
    }
   ],
   "source": [
    "# Set the index for brics\n",
    "brics.index = [\"BR\", \"RU\", \"IN\", \"CH\", \"SA\"]\n",
    "\n",
    "# Print out brics with new index values\n",
    "print(brics)"
   ]
  },
  {
   "cell_type": "code",
   "execution_count": 1,
   "metadata": {},
   "outputs": [
    {
     "name": "stdout",
     "output_type": "stream",
     "text": [
      "   cars_per_cap    country\n",
      "0            12    Denmark\n",
      "1            45  Australia\n",
      "2            65     Canada\n",
      "3            23     Russia\n",
      "4            78      India\n",
      "5            98      China\n"
     ]
    }
   ],
   "source": [
    "# Import pandas as pd\n",
    "import pandas as pd\n",
    "\n",
    "# Import the cars.csv data: cars\n",
    "cars = pd.read_csv('cars.csv')\n",
    "\n",
    "# Print out cars\n",
    "print(cars)"
   ]
  },
  {
   "cell_type": "code",
   "execution_count": 3,
   "metadata": {},
   "outputs": [
    {
     "name": "stdout",
     "output_type": "stream",
     "text": [
      "0    12\n",
      "1    45\n",
      "2    65\n",
      "3    23\n",
      "4    78\n",
      "5    98\n",
      "Name: cars_per_cap, dtype: int64\n",
      "   cars_per_cap\n",
      "0            12\n",
      "1            45\n",
      "2            65\n",
      "3            23\n",
      "4            78\n",
      "5            98\n",
      "   cars_per_cap    country\n",
      "0            12    Denmark\n",
      "1            45  Australia\n",
      "2            65     Canada\n",
      "3            23     Russia\n",
      "4            78      India\n",
      "5            98      China\n"
     ]
    }
   ],
   "source": [
    "# Import pandas and cars.csv\n",
    "import pandas as pd\n",
    "cars = pd.read_csv('cars.csv')\n",
    "\n",
    "# Print out country column as Pandas Series\n",
    "print(cars['cars_per_cap'])\n",
    "\n",
    "# Print out country column as Pandas DataFrame\n",
    "print(cars[['cars_per_cap']])\n",
    "\n",
    "# Print out DataFrame with country and drives_right columns\n",
    "print(cars[['cars_per_cap', 'country']])"
   ]
  },
  {
   "cell_type": "code",
   "execution_count": 4,
   "metadata": {},
   "outputs": [
    {
     "name": "stdout",
     "output_type": "stream",
     "text": [
      "                country\n",
      "cars_per_cap           \n",
      "12              Denmark\n",
      "45            Australia\n",
      "65               Canada\n",
      "23               Russia\n",
      "             country\n",
      "cars_per_cap        \n",
      "78             India\n",
      "98             China\n"
     ]
    }
   ],
   "source": [
    "# Import cars data\n",
    "import pandas as pd\n",
    "cars = pd.read_csv('cars.csv', index_col = 0)\n",
    "\n",
    "# Print out first 4 observatiprint(cars[0:4])\n",
    "\n",
    "# Print out fifth, sixth, and seventh observation\n",
    "print(cars[4:6])"
   ]
  },
  {
   "cell_type": "code",
   "execution_count": 8,
   "metadata": {},
   "outputs": [
    {
     "name": "stdout",
     "output_type": "stream",
     "text": [
      "country    Canada\n",
      "Name: 65, dtype: object\n",
      "    country\n",
      "IND   India\n",
      "CH    China\n"
     ]
    }
   ],
   "source": [
    "# Import cars data\n",
    "import pandas as pd\n",
    "cars = pd.read_csv('cars.csv', index_col = 0)\n",
    "\n",
    "# Print out observation for CANADA\n",
    "print(cars.iloc[2])\n",
    "\n",
    "cars.index = ['DEN','AUS','CAN','RUS','IND','CH']\n",
    "# Print out observations for India and China\n",
    "print(cars.loc[['IND', 'CH']])"
   ]
  }
 ],
 "metadata": {
  "kernelspec": {
   "display_name": "Python 3",
   "language": "python",
   "name": "python3"
  },
  "language_info": {
   "codemirror_mode": {
    "name": "ipython",
    "version": 3
   },
   "file_extension": ".py",
   "mimetype": "text/x-python",
   "name": "python",
   "nbconvert_exporter": "python",
   "pygments_lexer": "ipython3",
   "version": "3.6.7"
  }
 },
 "nbformat": 4,
 "nbformat_minor": 2
}
